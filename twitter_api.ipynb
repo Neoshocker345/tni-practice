{
 "cells": [
  {
   "cell_type": "code",
   "execution_count": 2,
   "metadata": {},
   "outputs": [],
   "source": [
    "import numpy as np\n",
    "import pandas as pd\n",
    "import tweepy\n",
    "import matplotlib.pyplot as plt\n",
    "import pymongo\n",
    "import ipywidgets as wgt\n",
    "from IPython.display import display\n",
    "from sklearn.feature_extraction.text import CountVectorizer\n",
    "import re\n",
    "from datetime import datetime\n",
    "%matplotlib inline"
   ]
  },
  {
   "cell_type": "code",
   "execution_count": 3,
   "metadata": {},
   "outputs": [
    {
     "name": "stderr",
     "output_type": "stream",
     "text": [
      "C:\\Users\\OMEN\\anaconda3\\lib\\site-packages\\ipykernel_launcher.py:11: DeprecationWarning: count is deprecated. Use estimated_document_count or count_documents instead. Please note that $where must be replaced by $expr, $near must be replaced by $geoWithin with $center, and $nearSphere must be replaced by $geoWithin with $centerSphere\n",
      "  # This is added back by InteractiveShellApp.init_path()\n"
     ]
    },
    {
     "data": {
      "text/plain": [
       "0"
      ]
     },
     "execution_count": 3,
     "metadata": {},
     "output_type": "execute_result"
    }
   ],
   "source": [
    "api_key = \"pCRLPdf2lkjpRX9Uczpt2gVBb\" # <---- Add your API Key\n",
    "api_secret = \"G1Wv7sTLMYF3cr5LbL8S9uj2g2LFrdWp8X8t7Ft3sIpW0kbqgD\" # <---- Add your API Secret\n",
    "access_token = \"100875722-7m5vhOzpw2LYrB7P8ISnTqtGYMMvVTqwx3X4EyJY\" # <---- Add your access token\n",
    "access_token_secret = \"uPEymGiszhiJEVWD4Alo1pzMUJx1ymo3Fd4HWyRPRBN3r\" # <---- Add your access token secret\n",
    "\n",
    "auth = tweepy.OAuthHandler(api_key, api_secret)\n",
    "auth.set_access_token(access_token, access_token_secret)\n",
    "\n",
    "api = tweepy.API(auth)\n",
    "col = pymongo.MongoClient()[\"TwitterWrangling\"][\"twitter_api\"]\n",
    "col.count()"
   ]
  },
  {
   "cell_type": "code",
   "execution_count": 33,
   "metadata": {},
   "outputs": [
    {
     "data": {
      "application/vnd.jupyter.widget-view+json": {
       "model_id": "695d9ad4ce834398b86aee463bc0fb92",
       "version_major": 2,
       "version_minor": 0
      },
      "text/plain": [
       "IntProgress(value=0)"
      ]
     },
     "metadata": {},
     "output_type": "display_data"
    },
    {
     "data": {
      "application/vnd.jupyter.widget-view+json": {
       "model_id": "86c5ffcc74ed406980ec44a61d2350b3",
       "version_major": 2,
       "version_minor": 0
      },
      "text/plain": [
       "HTML(value='<span class=\"label label-primary\">Tweets/Sec: 0.0</span>')"
      ]
     },
     "metadata": {},
     "output_type": "display_data"
    },
    {
     "name": "stdout",
     "output_type": "stream",
     "text": [
      "Finished\n",
      "Total Mining Time: 0:08:49.500814\n",
      "Tweets/Sec: 9.5\n",
      "Tweets collected: 5000\n",
      "Total tweets in collection: 5000\n"
     ]
    },
    {
     "name": "stderr",
     "output_type": "stream",
     "text": [
      "C:\\Users\\OMEN\\anaconda3\\lib\\site-packages\\ipykernel_launcher.py:59: DeprecationWarning: count is deprecated. Use estimated_document_count or count_documents instead. Please note that $where must be replaced by $expr, $near must be replaced by $geoWithin with $center, and $nearSphere must be replaced by $geoWithin with $centerSphere\n"
     ]
    }
   ],
   "source": [
    "class MyStreamListener(tweepy.StreamListener):\n",
    "    \n",
    "    counter = 0\n",
    "    \n",
    "    def __init__(self, max_tweets=5000, *args, **kwargs):\n",
    "        self.max_tweets = max_tweets\n",
    "        self.counter = 0\n",
    "        super().__init__(*args, **kwargs)\n",
    "    \n",
    "    def on_connect(self):\n",
    "        self.counter = 0\n",
    "        self.start_time = datetime.now()\n",
    "    \n",
    "    def on_status(self, status):\n",
    "        # Increment counter\n",
    "        self.counter += 1\n",
    "        \n",
    "        # Store tweet to MongoDB\n",
    "        col.insert_one(status._json)\n",
    "        \n",
    "        \n",
    "        if self.counter % 1 == 0:\n",
    "            value = int(100.00 * self.counter / self.max_tweets)\n",
    "            mining_time = datetime.now() - self.start_time\n",
    "            progress_bar.value = value\n",
    "            html_value = \"\"\"<span class=\"label label-primary\">Tweets/Sec: %.1f</span>\"\"\" % (self.counter / max([1,mining_time.seconds]))\n",
    "            html_value += \"\"\" <span class=\"label label-success\">Progress: %.1f%%</span>\"\"\" % (self.counter / self.max_tweets * 100.0)\n",
    "            html_value += \"\"\" <span class=\"label label-info\">ETA: %.1f Sec</span>\"\"\" % ((self.max_tweets - self.counter) / (self.counter / max([1,mining_time.seconds])))\n",
    "            wgt_status.value = html_value\n",
    "            #print(\"%s/%s\" % (self.counter, self.max_tweets))\n",
    "            if self.counter >= self.max_tweets:\n",
    "                myStream.disconnect()\n",
    "                print(\"Finished\")\n",
    "                print(\"Total Mining Time: %s\" % (mining_time))\n",
    "                print(\"Tweets/Sec: %.1f\" % (self.max_tweets / mining_time.seconds))\n",
    "                progress_bar.value = 0\n",
    "                \n",
    "    \n",
    "myStreamListener = MyStreamListener(max_tweets=5000)\n",
    "myStream = tweepy.Stream(auth = api.auth, listener=myStreamListener)\n",
    "keywords = [\"Apple\",\n",
    "            \"Samsung\",\n",
    "            \"Huawei\",\n",
    "            \"Oppo\",\n",
    "            \"Vivo\",\n",
    "           ]\n",
    "\n",
    "# Visualize a progress bar to track progress\n",
    "progress_bar = wgt.IntProgress(value=0)\n",
    "display(progress_bar)\n",
    "wgt_status = wgt.HTML(value=\"\"\"<span class=\"label label-primary\">Tweets/Sec: 0.0</span>\"\"\")\n",
    "display(wgt_status)\n",
    "\n",
    "# Start a filter with an error counter of 20\n",
    "for error_counter in range(20):\n",
    "    try:\n",
    "        myStream.filter(track=keywords)\n",
    "        print(\"Tweets collected: %s\" % myStream.listener.counter)\n",
    "        print(\"Total tweets in collection: %s\" % col.count())\n",
    "        break\n",
    "    except:\n",
    "        print(\"ERROR# %s\" % (error_counter + 1))"
   ]
  },
  {
   "cell_type": "code",
   "execution_count": 34,
   "metadata": {},
   "outputs": [
    {
     "data": {
      "text/plain": [
       "{'_id': ObjectId('5f99708a5dc8f5be60301ed3'),\n",
       " 'created_at': 'Wed Oct 28 13:22:12 +0000 2020',\n",
       " 'id': 1321442143433564161,\n",
       " 'id_str': '1321442143433564161',\n",
       " 'text': '#CallOnMe  https://t.co/tOWMB4bht8',\n",
       " 'source': '<a href=\"http://twitter.com/download/iphone\" rel=\"nofollow\">Twitter for iPhone</a>',\n",
       " 'truncated': False,\n",
       " 'in_reply_to_status_id': None,\n",
       " 'in_reply_to_status_id_str': None,\n",
       " 'in_reply_to_user_id': None,\n",
       " 'in_reply_to_user_id_str': None,\n",
       " 'in_reply_to_screen_name': None,\n",
       " 'user': {'id': 72457419,\n",
       "  'id_str': '72457419',\n",
       "  'name': 'Bint El Hatshepsut',\n",
       "  'screen_name': 'aconsciousthot',\n",
       "  'location': 'Atlanta, GA',\n",
       "  'url': 'http://www.queensinspirekings.org',\n",
       "  'description': 'Queens Inspire Kings. Daughter of the FOI. Gentrification Refugee. Sufi Economist & Student of El Salahi. #AfricanInAmerica #Kushite 🇸🇩🇪🇬',\n",
       "  'translator_type': 'none',\n",
       "  'protected': False,\n",
       "  'verified': False,\n",
       "  'followers_count': 3831,\n",
       "  'friends_count': 1623,\n",
       "  'listed_count': 37,\n",
       "  'favourites_count': 6247,\n",
       "  'statuses_count': 19463,\n",
       "  'created_at': 'Tue Sep 08 03:09:07 +0000 2009',\n",
       "  'utc_offset': None,\n",
       "  'time_zone': None,\n",
       "  'geo_enabled': True,\n",
       "  'lang': None,\n",
       "  'contributors_enabled': False,\n",
       "  'is_translator': False,\n",
       "  'profile_background_color': '000000',\n",
       "  'profile_background_image_url': 'http://abs.twimg.com/images/themes/theme1/bg.png',\n",
       "  'profile_background_image_url_https': 'https://abs.twimg.com/images/themes/theme1/bg.png',\n",
       "  'profile_background_tile': False,\n",
       "  'profile_link_color': '9266CC',\n",
       "  'profile_sidebar_border_color': '000000',\n",
       "  'profile_sidebar_fill_color': '000000',\n",
       "  'profile_text_color': 'DE338E',\n",
       "  'profile_use_background_image': True,\n",
       "  'profile_image_url': 'http://pbs.twimg.com/profile_images/1312454075435438081/JtnwMWqF_normal.jpg',\n",
       "  'profile_image_url_https': 'https://pbs.twimg.com/profile_images/1312454075435438081/JtnwMWqF_normal.jpg',\n",
       "  'profile_banner_url': 'https://pbs.twimg.com/profile_banners/72457419/1583065309',\n",
       "  'default_profile': False,\n",
       "  'default_profile_image': False,\n",
       "  'following': None,\n",
       "  'follow_request_sent': None,\n",
       "  'notifications': None},\n",
       " 'geo': None,\n",
       " 'coordinates': None,\n",
       " 'place': None,\n",
       " 'contributors': None,\n",
       " 'is_quote_status': False,\n",
       " 'quote_count': 0,\n",
       " 'reply_count': 0,\n",
       " 'retweet_count': 0,\n",
       " 'favorite_count': 0,\n",
       " 'entities': {'hashtags': [{'text': 'CallOnMe', 'indices': [0, 9]}],\n",
       "  'urls': [{'url': 'https://t.co/tOWMB4bht8',\n",
       "    'expanded_url': 'https://music.apple.com/us/album/call-on-me/715329875?i=715329977',\n",
       "    'display_url': 'music.apple.com/us/album/call-…',\n",
       "    'indices': [11, 34]}],\n",
       "  'user_mentions': [],\n",
       "  'symbols': []},\n",
       " 'favorited': False,\n",
       " 'retweeted': False,\n",
       " 'possibly_sensitive': False,\n",
       " 'filter_level': 'low',\n",
       " 'lang': 'und',\n",
       " 'timestamp_ms': '1603891332859'}"
      ]
     },
     "execution_count": 34,
     "metadata": {},
     "output_type": "execute_result"
    }
   ],
   "source": [
    "col.find_one()"
   ]
  },
  {
   "cell_type": "code",
   "execution_count": 35,
   "metadata": {},
   "outputs": [
    {
     "data": {
      "text/html": [
       "<div>\n",
       "<style scoped>\n",
       "    .dataframe tbody tr th:only-of-type {\n",
       "        vertical-align: middle;\n",
       "    }\n",
       "\n",
       "    .dataframe tbody tr th {\n",
       "        vertical-align: top;\n",
       "    }\n",
       "\n",
       "    .dataframe thead th {\n",
       "        text-align: right;\n",
       "    }\n",
       "</style>\n",
       "<table border=\"1\" class=\"dataframe\">\n",
       "  <thead>\n",
       "    <tr style=\"text-align: right;\">\n",
       "      <th></th>\n",
       "      <th>created_at</th>\n",
       "      <th>text</th>\n",
       "      <th>user</th>\n",
       "      <th>source</th>\n",
       "      <th>lang</th>\n",
       "    </tr>\n",
       "  </thead>\n",
       "  <tbody>\n",
       "    <tr>\n",
       "      <th>0</th>\n",
       "      <td>Wed Oct 28 13:22:12 +0000 2020</td>\n",
       "      <td>#CallOnMe  https://t.co/tOWMB4bht8</td>\n",
       "      <td>@aconsciousthot</td>\n",
       "      <td>&lt;a href=\"http://twitter.com/download/iphone\" r...</td>\n",
       "      <td>und</td>\n",
       "    </tr>\n",
       "    <tr>\n",
       "      <th>1</th>\n",
       "      <td>Wed Oct 28 13:22:12 +0000 2020</td>\n",
       "      <td>ALÔ ALÔ CHARLIE NO TUDUM É ISSO MESMO BRASIL?\\...</td>\n",
       "      <td>@CharlesGDaily</td>\n",
       "      <td>&lt;a href=\"http://twitter.com/download/android\" ...</td>\n",
       "      <td>pt</td>\n",
       "    </tr>\n",
       "    <tr>\n",
       "      <th>2</th>\n",
       "      <td>Wed Oct 28 13:22:13 +0000 2020</td>\n",
       "      <td>RT @Naunaback: Rp 1.400.000 atau $100 atau dig...</td>\n",
       "      <td>@doyyuraakim</td>\n",
       "      <td>&lt;a href=\"http://twitter.com/download/android\" ...</td>\n",
       "      <td>in</td>\n",
       "    </tr>\n",
       "    <tr>\n",
       "      <th>3</th>\n",
       "      <td>Wed Oct 28 13:22:13 +0000 2020</td>\n",
       "      <td>#LG Wing With Triple Rear Cameras Launched In ...</td>\n",
       "      <td>@akhiljoseph</td>\n",
       "      <td>&lt;a href=\"https://publer.io\" rel=\"nofollow\"&gt;Pub...</td>\n",
       "      <td>en</td>\n",
       "    </tr>\n",
       "    <tr>\n",
       "      <th>4</th>\n",
       "      <td>Wed Oct 28 13:22:13 +0000 2020</td>\n",
       "      <td>RT @Naunaback: Rp 1.400.000 atau $100 atau dig...</td>\n",
       "      <td>@Taemilkjinie</td>\n",
       "      <td>&lt;a href=\"http://twitter.com/download/android\" ...</td>\n",
       "      <td>in</td>\n",
       "    </tr>\n",
       "    <tr>\n",
       "      <th>...</th>\n",
       "      <td>...</td>\n",
       "      <td>...</td>\n",
       "      <td>...</td>\n",
       "      <td>...</td>\n",
       "      <td>...</td>\n",
       "    </tr>\n",
       "    <tr>\n",
       "      <th>4995</th>\n",
       "      <td>Wed Oct 28 13:31:01 +0000 2020</td>\n",
       "      <td>@noticierovv Son igual, o peor que la #Narcoti...</td>\n",
       "      <td>@fjmt1022</td>\n",
       "      <td>&lt;a href=\"https://mobile.twitter.com\" rel=\"nofo...</td>\n",
       "      <td>es</td>\n",
       "    </tr>\n",
       "    <tr>\n",
       "      <th>4996</th>\n",
       "      <td>Wed Oct 28 13:31:01 +0000 2020</td>\n",
       "      <td>This would be really great. Granted, it’d prob...</td>\n",
       "      <td>@zatara214</td>\n",
       "      <td>&lt;a href=\"http://tapbots.com/tweetbot\" rel=\"nof...</td>\n",
       "      <td>en</td>\n",
       "    </tr>\n",
       "    <tr>\n",
       "      <th>4997</th>\n",
       "      <td>Wed Oct 28 13:31:02 +0000 2020</td>\n",
       "      <td>RT @CCI_hdf: 📲Téléchargez #TousAntiCovid, l’ap...</td>\n",
       "      <td>@LegrouxVincent</td>\n",
       "      <td>&lt;a href=\"http://twitter.com/download/iphone\" r...</td>\n",
       "      <td>fr</td>\n",
       "    </tr>\n",
       "    <tr>\n",
       "      <th>4998</th>\n",
       "      <td>Wed Oct 28 13:31:02 +0000 2020</td>\n",
       "      <td>vivo en un mundo donde harry nunca me va escri...</td>\n",
       "      <td>@dynastyindie</td>\n",
       "      <td>&lt;a href=\"http://twitter.com/download/iphone\" r...</td>\n",
       "      <td>es</td>\n",
       "    </tr>\n",
       "    <tr>\n",
       "      <th>4999</th>\n",
       "      <td>Wed Oct 28 13:31:02 +0000 2020</td>\n",
       "      <td>Best Apple TV Plus shows: great Apple TV+ show...</td>\n",
       "      <td>@ShortList</td>\n",
       "      <td>&lt;a href=\"https://buffer.com\" rel=\"nofollow\"&gt;Bu...</td>\n",
       "      <td>en</td>\n",
       "    </tr>\n",
       "  </tbody>\n",
       "</table>\n",
       "<p>5000 rows × 5 columns</p>\n",
       "</div>"
      ],
      "text/plain": [
       "                          created_at  \\\n",
       "0     Wed Oct 28 13:22:12 +0000 2020   \n",
       "1     Wed Oct 28 13:22:12 +0000 2020   \n",
       "2     Wed Oct 28 13:22:13 +0000 2020   \n",
       "3     Wed Oct 28 13:22:13 +0000 2020   \n",
       "4     Wed Oct 28 13:22:13 +0000 2020   \n",
       "...                              ...   \n",
       "4995  Wed Oct 28 13:31:01 +0000 2020   \n",
       "4996  Wed Oct 28 13:31:01 +0000 2020   \n",
       "4997  Wed Oct 28 13:31:02 +0000 2020   \n",
       "4998  Wed Oct 28 13:31:02 +0000 2020   \n",
       "4999  Wed Oct 28 13:31:02 +0000 2020   \n",
       "\n",
       "                                                   text             user  \\\n",
       "0                    #CallOnMe  https://t.co/tOWMB4bht8  @aconsciousthot   \n",
       "1     ALÔ ALÔ CHARLIE NO TUDUM É ISSO MESMO BRASIL?\\...   @CharlesGDaily   \n",
       "2     RT @Naunaback: Rp 1.400.000 atau $100 atau dig...     @doyyuraakim   \n",
       "3     #LG Wing With Triple Rear Cameras Launched In ...     @akhiljoseph   \n",
       "4     RT @Naunaback: Rp 1.400.000 atau $100 atau dig...    @Taemilkjinie   \n",
       "...                                                 ...              ...   \n",
       "4995  @noticierovv Son igual, o peor que la #Narcoti...        @fjmt1022   \n",
       "4996  This would be really great. Granted, it’d prob...       @zatara214   \n",
       "4997  RT @CCI_hdf: 📲Téléchargez #TousAntiCovid, l’ap...  @LegrouxVincent   \n",
       "4998  vivo en un mundo donde harry nunca me va escri...    @dynastyindie   \n",
       "4999  Best Apple TV Plus shows: great Apple TV+ show...       @ShortList   \n",
       "\n",
       "                                                 source lang  \n",
       "0     <a href=\"http://twitter.com/download/iphone\" r...  und  \n",
       "1     <a href=\"http://twitter.com/download/android\" ...   pt  \n",
       "2     <a href=\"http://twitter.com/download/android\" ...   in  \n",
       "3     <a href=\"https://publer.io\" rel=\"nofollow\">Pub...   en  \n",
       "4     <a href=\"http://twitter.com/download/android\" ...   in  \n",
       "...                                                 ...  ...  \n",
       "4995  <a href=\"https://mobile.twitter.com\" rel=\"nofo...   es  \n",
       "4996  <a href=\"http://tapbots.com/tweetbot\" rel=\"nof...   en  \n",
       "4997  <a href=\"http://twitter.com/download/iphone\" r...   fr  \n",
       "4998  <a href=\"http://twitter.com/download/iphone\" r...   es  \n",
       "4999  <a href=\"https://buffer.com\" rel=\"nofollow\">Bu...   en  \n",
       "\n",
       "[5000 rows x 5 columns]"
      ]
     },
     "execution_count": 35,
     "metadata": {},
     "output_type": "execute_result"
    }
   ],
   "source": [
    "dataset = [{\"created_at\": item[\"created_at\"],\n",
    "            \"text\": item[\"text\"],\n",
    "            \"user\": \"@%s\" % item[\"user\"][\"screen_name\"],\n",
    "            \"source\": item[\"source\"],\n",
    "            \"lang\":item[\"lang\"],\n",
    "            \n",
    "           } for item in col.find()]\n",
    "\n",
    "dataset = pd.DataFrame(dataset)\n",
    "dataset"
   ]
  },
  {
   "cell_type": "code",
   "execution_count": 36,
   "metadata": {},
   "outputs": [
    {
     "data": {
      "text/html": [
       "<div>\n",
       "<style scoped>\n",
       "    .dataframe tbody tr th:only-of-type {\n",
       "        vertical-align: middle;\n",
       "    }\n",
       "\n",
       "    .dataframe tbody tr th {\n",
       "        vertical-align: top;\n",
       "    }\n",
       "\n",
       "    .dataframe thead th {\n",
       "        text-align: right;\n",
       "    }\n",
       "</style>\n",
       "<table border=\"1\" class=\"dataframe\">\n",
       "  <thead>\n",
       "    <tr style=\"text-align: right;\">\n",
       "      <th></th>\n",
       "      <th>word</th>\n",
       "      <th>count</th>\n",
       "    </tr>\n",
       "  </thead>\n",
       "  <tbody>\n",
       "    <tr>\n",
       "      <th>0</th>\n",
       "      <td>https</td>\n",
       "      <td>2639</td>\n",
       "    </tr>\n",
       "    <tr>\n",
       "      <th>1</th>\n",
       "      <td>co</td>\n",
       "      <td>2588</td>\n",
       "    </tr>\n",
       "    <tr>\n",
       "      <th>2</th>\n",
       "      <td>rt</td>\n",
       "      <td>2515</td>\n",
       "    </tr>\n",
       "    <tr>\n",
       "      <th>3</th>\n",
       "      <td>apple</td>\n",
       "      <td>1316</td>\n",
       "    </tr>\n",
       "    <tr>\n",
       "      <th>4</th>\n",
       "      <td>the</td>\n",
       "      <td>1045</td>\n",
       "    </tr>\n",
       "    <tr>\n",
       "      <th>5</th>\n",
       "      <td>de</td>\n",
       "      <td>801</td>\n",
       "    </tr>\n",
       "    <tr>\n",
       "      <th>6</th>\n",
       "      <td>vivo</td>\n",
       "      <td>752</td>\n",
       "    </tr>\n",
       "    <tr>\n",
       "      <th>7</th>\n",
       "      <td>to</td>\n",
       "      <td>743</td>\n",
       "    </tr>\n",
       "    <tr>\n",
       "      <th>8</th>\n",
       "      <td>en</td>\n",
       "      <td>550</td>\n",
       "    </tr>\n",
       "    <tr>\n",
       "      <th>9</th>\n",
       "      <td>and</td>\n",
       "      <td>506</td>\n",
       "    </tr>\n",
       "    <tr>\n",
       "      <th>10</th>\n",
       "      <td>que</td>\n",
       "      <td>482</td>\n",
       "    </tr>\n",
       "    <tr>\n",
       "      <th>11</th>\n",
       "      <td>samsung</td>\n",
       "      <td>464</td>\n",
       "    </tr>\n",
       "    <tr>\n",
       "      <th>12</th>\n",
       "      <td>you</td>\n",
       "      <td>400</td>\n",
       "    </tr>\n",
       "    <tr>\n",
       "      <th>13</th>\n",
       "      <td>on</td>\n",
       "      <td>394</td>\n",
       "    </tr>\n",
       "    <tr>\n",
       "      <th>14</th>\n",
       "      <td>atau</td>\n",
       "      <td>380</td>\n",
       "    </tr>\n",
       "    <tr>\n",
       "      <th>15</th>\n",
       "      <td>music</td>\n",
       "      <td>375</td>\n",
       "    </tr>\n",
       "    <tr>\n",
       "      <th>16</th>\n",
       "      <td>la</td>\n",
       "      <td>356</td>\n",
       "    </tr>\n",
       "    <tr>\n",
       "      <th>17</th>\n",
       "      <td>of</td>\n",
       "      <td>347</td>\n",
       "    </tr>\n",
       "    <tr>\n",
       "      <th>18</th>\n",
       "      <td>me</td>\n",
       "      <td>333</td>\n",
       "    </tr>\n",
       "    <tr>\n",
       "      <th>19</th>\n",
       "      <td>it</td>\n",
       "      <td>311</td>\n",
       "    </tr>\n",
       "    <tr>\n",
       "      <th>20</th>\n",
       "      <td>no</td>\n",
       "      <td>305</td>\n",
       "    </tr>\n",
       "    <tr>\n",
       "      <th>21</th>\n",
       "      <td>is</td>\n",
       "      <td>304</td>\n",
       "    </tr>\n",
       "    <tr>\n",
       "      <th>22</th>\n",
       "      <td>el</td>\n",
       "      <td>298</td>\n",
       "    </tr>\n",
       "    <tr>\n",
       "      <th>23</th>\n",
       "      <td>in</td>\n",
       "      <td>297</td>\n",
       "    </tr>\n",
       "    <tr>\n",
       "      <th>24</th>\n",
       "      <td>for</td>\n",
       "      <td>281</td>\n",
       "    </tr>\n",
       "    <tr>\n",
       "      <th>25</th>\n",
       "      <td>oppo</td>\n",
       "      <td>275</td>\n",
       "    </tr>\n",
       "    <tr>\n",
       "      <th>26</th>\n",
       "      <td>follow</td>\n",
       "      <td>242</td>\n",
       "    </tr>\n",
       "    <tr>\n",
       "      <th>27</th>\n",
       "      <td>this</td>\n",
       "      <td>233</td>\n",
       "    </tr>\n",
       "    <tr>\n",
       "      <th>28</th>\n",
       "      <td>shopeegajiansalegiveaway</td>\n",
       "      <td>230</td>\n",
       "    </tr>\n",
       "    <tr>\n",
       "      <th>29</th>\n",
       "      <td>pro</td>\n",
       "      <td>229</td>\n",
       "    </tr>\n",
       "    <tr>\n",
       "      <th>30</th>\n",
       "      <td>100</td>\n",
       "      <td>223</td>\n",
       "    </tr>\n",
       "    <tr>\n",
       "      <th>31</th>\n",
       "      <td>amp</td>\n",
       "      <td>222</td>\n",
       "    </tr>\n",
       "    <tr>\n",
       "      <th>32</th>\n",
       "      <td>spotify</td>\n",
       "      <td>222</td>\n",
       "    </tr>\n",
       "    <tr>\n",
       "      <th>33</th>\n",
       "      <td>aku</td>\n",
       "      <td>219</td>\n",
       "    </tr>\n",
       "    <tr>\n",
       "      <th>34</th>\n",
       "      <td>dan</td>\n",
       "      <td>217</td>\n",
       "    </tr>\n",
       "    <tr>\n",
       "      <th>35</th>\n",
       "      <td>000</td>\n",
       "      <td>214</td>\n",
       "    </tr>\n",
       "    <tr>\n",
       "      <th>36</th>\n",
       "      <td>ini</td>\n",
       "      <td>211</td>\n",
       "    </tr>\n",
       "    <tr>\n",
       "      <th>37</th>\n",
       "      <td>hp</td>\n",
       "      <td>204</td>\n",
       "    </tr>\n",
       "    <tr>\n",
       "      <th>38</th>\n",
       "      <td>with</td>\n",
       "      <td>204</td>\n",
       "    </tr>\n",
       "    <tr>\n",
       "      <th>39</th>\n",
       "      <td>naunaback</td>\n",
       "      <td>202</td>\n",
       "    </tr>\n",
       "    <tr>\n",
       "      <th>40</th>\n",
       "      <td>diganti</td>\n",
       "      <td>202</td>\n",
       "    </tr>\n",
       "    <tr>\n",
       "      <th>41</th>\n",
       "      <td>a10s</td>\n",
       "      <td>201</td>\n",
       "    </tr>\n",
       "    <tr>\n",
       "      <th>42</th>\n",
       "      <td>rp</td>\n",
       "      <td>201</td>\n",
       "    </tr>\n",
       "    <tr>\n",
       "      <th>43</th>\n",
       "      <td>dalam</td>\n",
       "      <td>182</td>\n",
       "    </tr>\n",
       "    <tr>\n",
       "      <th>44</th>\n",
       "      <td>400</td>\n",
       "      <td>181</td>\n",
       "    </tr>\n",
       "    <tr>\n",
       "      <th>45</th>\n",
       "      <td>hanya</td>\n",
       "      <td>177</td>\n",
       "    </tr>\n",
       "    <tr>\n",
       "      <th>46</th>\n",
       "      <td>diundi</td>\n",
       "      <td>177</td>\n",
       "    </tr>\n",
       "    <tr>\n",
       "      <th>47</th>\n",
       "      <td>psychologistj1</td>\n",
       "      <td>177</td>\n",
       "    </tr>\n",
       "    <tr>\n",
       "      <th>48</th>\n",
       "      <td>24jam</td>\n",
       "      <td>177</td>\n",
       "    </tr>\n",
       "    <tr>\n",
       "      <th>49</th>\n",
       "      <td>brice</td>\n",
       "      <td>176</td>\n",
       "    </tr>\n",
       "  </tbody>\n",
       "</table>\n",
       "</div>"
      ],
      "text/plain": [
       "                        word  count\n",
       "0                      https   2639\n",
       "1                         co   2588\n",
       "2                         rt   2515\n",
       "3                      apple   1316\n",
       "4                        the   1045\n",
       "5                         de    801\n",
       "6                       vivo    752\n",
       "7                         to    743\n",
       "8                         en    550\n",
       "9                        and    506\n",
       "10                       que    482\n",
       "11                   samsung    464\n",
       "12                       you    400\n",
       "13                        on    394\n",
       "14                      atau    380\n",
       "15                     music    375\n",
       "16                        la    356\n",
       "17                        of    347\n",
       "18                        me    333\n",
       "19                        it    311\n",
       "20                        no    305\n",
       "21                        is    304\n",
       "22                        el    298\n",
       "23                        in    297\n",
       "24                       for    281\n",
       "25                      oppo    275\n",
       "26                    follow    242\n",
       "27                      this    233\n",
       "28  shopeegajiansalegiveaway    230\n",
       "29                       pro    229\n",
       "30                       100    223\n",
       "31                       amp    222\n",
       "32                   spotify    222\n",
       "33                       aku    219\n",
       "34                       dan    217\n",
       "35                       000    214\n",
       "36                       ini    211\n",
       "37                        hp    204\n",
       "38                      with    204\n",
       "39                 naunaback    202\n",
       "40                   diganti    202\n",
       "41                      a10s    201\n",
       "42                        rp    201\n",
       "43                     dalam    182\n",
       "44                       400    181\n",
       "45                     hanya    177\n",
       "46                    diundi    177\n",
       "47            psychologistj1    177\n",
       "48                     24jam    177\n",
       "49                     brice    176"
      ]
     },
     "execution_count": 36,
     "metadata": {},
     "output_type": "execute_result"
    }
   ],
   "source": [
    "cv = CountVectorizer()\n",
    "count_matrix = cv.fit_transform(dataset.text)\n",
    "\n",
    "word_count = pd.DataFrame(cv.get_feature_names(), columns=[\"word\"])\n",
    "word_count[\"count\"] = count_matrix.sum(axis=0).tolist()[0]\n",
    "word_count = word_count.sort_values(\"count\", ascending=False).reset_index(drop=True)\n",
    "word_count[:50]"
   ]
  },
  {
   "cell_type": "code",
   "execution_count": 37,
   "metadata": {},
   "outputs": [
    {
     "name": "stderr",
     "output_type": "stream",
     "text": [
      "C:\\Users\\OMEN\\anaconda3\\lib\\site-packages\\ipykernel_launcher.py:7: UserWarning: Pandas doesn't allow columns to be created via a new attribute name - see https://pandas.pydata.org/pandas-docs/stable/indexing.html#attribute-access\n",
      "  import sys\n"
     ]
    },
    {
     "data": {
      "text/plain": [
       "twittbot.net             17\n",
       "                         21\n",
       "IFTTT                    26\n",
       "WordPress.com            26\n",
       "dlvr.it                  35\n",
       "TweetDeck                45\n",
       "Twitter for iPad         81\n",
       "Twitter Web App         757\n",
       "Twitter for iPhone     1726\n",
       "Twitter for Android    2029\n",
       "Name: source, dtype: int64"
      ]
     },
     "execution_count": 37,
     "metadata": {},
     "output_type": "execute_result"
    },
    {
     "data": {
      "image/png": "[encoded data removed]",
      "text/plain": [
       "<Figure size 432x288 with 1 Axes>"
      ]
     },
     "metadata": {
      "needs_background": "light"
     },
     "output_type": "display_data"
    }
   ],
   "source": [
    "def get_source_name(x):\n",
    "    value = re.findall(pattern=\"<[^>]+>([^<]+)</a>\", string=x)\n",
    "    if len(value) > 0:\n",
    "        return value[0]\n",
    "    else:\n",
    "        return \"\"\n",
    "dataset.source_name = dataset.source.apply(get_source_name)\n",
    "\n",
    "source_counts = dataset.source_name.value_counts().sort_values()[-10:]\n",
    "\n",
    "bottom = [index for index, item in enumerate(source_counts.index)]\n",
    "plt.barh(bottom, width=source_counts, color=\"blue\", linewidth=0)\n",
    "\n",
    "y_labels = [\"%s %.1f%%\" % (item, 100.0*source_counts[item]/len(dataset)) for index,item in enumerate(source_counts.index)]\n",
    "plt.yticks(np.array(bottom)+0.4, y_labels)\n",
    "\n",
    "source_counts"
   ]
  },
  {
   "cell_type": "code",
   "execution_count": 38,
   "metadata": {},
   "outputs": [
    {
     "data": {
      "text/plain": [
       "fr       67\n",
       "it       72\n",
       "ko       88\n",
       "th      175\n",
       "und     330\n",
       "in      361\n",
       "ja      407\n",
       "pt      555\n",
       "es      745\n",
       "en     1991\n",
       "Name: lang, dtype: int64"
      ]
     },
     "execution_count": 38,
     "metadata": {},
     "output_type": "execute_result"
    },
    {
     "data": {
      "image/png": "[encoded data removed]",
      "text/plain": [
       "<Figure size 432x288 with 1 Axes>"
      ]
     },
     "metadata": {
      "needs_background": "light"
     },
     "output_type": "display_data"
    }
   ],
   "source": [
    "lang_counts = dataset.lang.value_counts().sort_values()[-10:]\n",
    "bottom = [index for index, item in enumerate(lang_counts.index)]\n",
    "plt.barh(bottom, width=lang_counts, color=\"green\", linewidth=0)\n",
    "y_labels = [\"%s %.1f%%\" % (item, 100.0*lang_counts[item]/len(dataset)) for index,item in enumerate(lang_counts.index)]\n",
    "plt.yticks(np.array(bottom)+0.4, y_labels)\n",
    "lang_counts"
   ]
  },
  {
   "cell_type": "code",
   "execution_count": 39,
   "metadata": {},
   "outputs": [],
   "source": [
    "from pandas.io.json import json_normalize\n",
    "import matplotlib.pyplot as plt"
   ]
  },
  {
   "cell_type": "code",
   "execution_count": 40,
   "metadata": {},
   "outputs": [
    {
     "data": {
      "text/html": [
       "<div>\n",
       "<style scoped>\n",
       "    .dataframe tbody tr th:only-of-type {\n",
       "        vertical-align: middle;\n",
       "    }\n",
       "\n",
       "    .dataframe tbody tr th {\n",
       "        vertical-align: top;\n",
       "    }\n",
       "\n",
       "    .dataframe thead th {\n",
       "        text-align: right;\n",
       "    }\n",
       "</style>\n",
       "<table border=\"1\" class=\"dataframe\">\n",
       "  <thead>\n",
       "    <tr style=\"text-align: right;\">\n",
       "      <th></th>\n",
       "      <th>id</th>\n",
       "      <th>text</th>\n",
       "      <th>lang</th>\n",
       "    </tr>\n",
       "  </thead>\n",
       "  <tbody>\n",
       "    <tr>\n",
       "      <th>3</th>\n",
       "      <td>1321442145274863617</td>\n",
       "      <td>#LG Wing With Triple Rear Cameras Launched In ...</td>\n",
       "      <td>en</td>\n",
       "    </tr>\n",
       "    <tr>\n",
       "      <th>7</th>\n",
       "      <td>1321442148731027458</td>\n",
       "      <td>Oh, hey Apple Music update 👋🏾</td>\n",
       "      <td>en</td>\n",
       "    </tr>\n",
       "    <tr>\n",
       "      <th>9</th>\n",
       "      <td>1321442149825536001</td>\n",
       "      <td>RT @amazonIN: Take the perfect screenshot and ...</td>\n",
       "      <td>en</td>\n",
       "    </tr>\n",
       "    <tr>\n",
       "      <th>11</th>\n",
       "      <td>1321442150702288898</td>\n",
       "      <td>In a way some parents were responsible for the...</td>\n",
       "      <td>en</td>\n",
       "    </tr>\n",
       "    <tr>\n",
       "      <th>21</th>\n",
       "      <td>1321442154498166787</td>\n",
       "      <td>RT @WYRevolution: Did you miss the amazing and...</td>\n",
       "      <td>en</td>\n",
       "    </tr>\n",
       "    <tr>\n",
       "      <th>...</th>\n",
       "      <td>...</td>\n",
       "      <td>...</td>\n",
       "      <td>...</td>\n",
       "    </tr>\n",
       "    <tr>\n",
       "      <th>4980</th>\n",
       "      <td>1321444353953484803</td>\n",
       "      <td>RT @stoolpresidente: Imagine buying any kind o...</td>\n",
       "      <td>en</td>\n",
       "    </tr>\n",
       "    <tr>\n",
       "      <th>4986</th>\n",
       "      <td>1321444357115883520</td>\n",
       "      <td>Most of this baby frogs don't really understan...</td>\n",
       "      <td>en</td>\n",
       "    </tr>\n",
       "    <tr>\n",
       "      <th>4992</th>\n",
       "      <td>1321444359947096070</td>\n",
       "      <td>Apple tests search: https://t.co/Ku4hrjGxMS</td>\n",
       "      <td>en</td>\n",
       "    </tr>\n",
       "    <tr>\n",
       "      <th>4996</th>\n",
       "      <td>1321444362337820673</td>\n",
       "      <td>This would be really great. Granted, it’d prob...</td>\n",
       "      <td>en</td>\n",
       "    </tr>\n",
       "    <tr>\n",
       "      <th>4999</th>\n",
       "      <td>1321444363591888896</td>\n",
       "      <td>Best Apple TV Plus shows: great Apple TV+ show...</td>\n",
       "      <td>en</td>\n",
       "    </tr>\n",
       "  </tbody>\n",
       "</table>\n",
       "<p>1991 rows × 3 columns</p>\n",
       "</div>"
      ],
      "text/plain": [
       "                       id                                               text  \\\n",
       "3     1321442145274863617  #LG Wing With Triple Rear Cameras Launched In ...   \n",
       "7     1321442148731027458                      Oh, hey Apple Music update 👋🏾   \n",
       "9     1321442149825536001  RT @amazonIN: Take the perfect screenshot and ...   \n",
       "11    1321442150702288898  In a way some parents were responsible for the...   \n",
       "21    1321442154498166787  RT @WYRevolution: Did you miss the amazing and...   \n",
       "...                   ...                                                ...   \n",
       "4980  1321444353953484803  RT @stoolpresidente: Imagine buying any kind o...   \n",
       "4986  1321444357115883520  Most of this baby frogs don't really understan...   \n",
       "4992  1321444359947096070        Apple tests search: https://t.co/Ku4hrjGxMS   \n",
       "4996  1321444362337820673  This would be really great. Granted, it’d prob...   \n",
       "4999  1321444363591888896  Best Apple TV Plus shows: great Apple TV+ show...   \n",
       "\n",
       "     lang  \n",
       "3      en  \n",
       "7      en  \n",
       "9      en  \n",
       "11     en  \n",
       "21     en  \n",
       "...   ...  \n",
       "4980   en  \n",
       "4986   en  \n",
       "4992   en  \n",
       "4996   en  \n",
       "4999   en  \n",
       "\n",
       "[1991 rows x 3 columns]"
      ]
     },
     "execution_count": 40,
     "metadata": {},
     "output_type": "execute_result"
    }
   ],
   "source": [
    "dataset1 = [{\"id\": item[\"id\"],\n",
    "            \"text\": item[\"text\"],\n",
    "            \"lang\":item[\"lang\"],\n",
    "            \n",
    "           } for item in col.find()]\n",
    "\n",
    "dataset1 = pd.DataFrame(dataset1)\n",
    "is_dataset1 = dataset1.lang==\"en\"\n",
    "dataset1 = dataset1[is_dataset1]\n",
    "dataset1"
   ]
  },
  {
   "cell_type": "code",
   "execution_count": 41,
   "metadata": {},
   "outputs": [
    {
     "data": {
      "image/png": "[encoded data removed]",
      "text/plain": [
       "<Figure size 432x288 with 1 Axes>"
      ]
     },
     "metadata": {
      "needs_background": "light"
     },
     "output_type": "display_data"
    }
   ],
   "source": [
    "from  textblob import TextBlob\n",
    "tweettext = dataset1['text']\n",
    "wordlist = pd.DataFrame();\n",
    "\n",
    "polarity = []\n",
    "subj = []\n",
    "\n",
    "for t in tweettext:\n",
    "    tx = TextBlob(t)\n",
    "    polarity.append(tx.sentiment.polarity)\n",
    "    subj.append(tx.sentiment.subjectivity)\n",
    "\n",
    "poltweet = pd.DataFrame({'polarity':polarity,'subjectivity':subj})\n",
    "poltweet.polarity.plot(title='Polarity')\n",
    "plt.show()"
   ]
  },
  {
   "cell_type": "code",
   "execution_count": 42,
   "metadata": {},
   "outputs": [
    {
     "data": {
      "image/png": "[encoded data removed]",
      "text/plain": [
       "<Figure size 432x288 with 1 Axes>"
      ]
     },
     "metadata": {
      "needs_background": "light"
     },
     "output_type": "display_data"
    }
   ],
   "source": [
    "poltweet.subjectivity.plot(title='Subjectivity')\n",
    "plt.show()"
   ]
  },
  {
   "cell_type": "code",
   "execution_count": 43,
   "metadata": {},
   "outputs": [
    {
     "data": {
      "text/plain": [
       "0.13232841586859667"
      ]
     },
     "execution_count": 43,
     "metadata": {},
     "output_type": "execute_result"
    }
   ],
   "source": [
    "import statistics\n",
    "statistics.mean(poltweet.polarity)"
   ]
  },
  {
   "cell_type": "code",
   "execution_count": 44,
   "metadata": {},
   "outputs": [
    {
     "data": {
      "text/plain": [
       "0.3136907828345548"
      ]
     },
     "execution_count": 44,
     "metadata": {},
     "output_type": "execute_result"
    }
   ],
   "source": [
    "statistics.mean(poltweet.subjectivity)"
   ]
  },
  {
   "cell_type": "code",
   "execution_count": 45,
   "metadata": {},
   "outputs": [],
   "source": [
    "apple_db = dataset1[dataset1['text'].str.contains('Apple')]\n",
    "samsung_db = dataset1[dataset1['text'].str.contains('Samsung')]\n",
    "huawei_db = dataset1[dataset1['text'].str.contains('Huawei')]\n",
    "oppo_db = dataset1[dataset1['text'].str.contains('Oppo')]\n",
    "vivo_db = dataset1[dataset1['text'].str.contains('Vivo')]"
   ]
  },
  {
   "cell_type": "code",
   "execution_count": 46,
   "metadata": {},
   "outputs": [
    {
     "data": {
      "text/html": [
       "<div>\n",
       "<style scoped>\n",
       "    .dataframe tbody tr th:only-of-type {\n",
       "        vertical-align: middle;\n",
       "    }\n",
       "\n",
       "    .dataframe tbody tr th {\n",
       "        vertical-align: top;\n",
       "    }\n",
       "\n",
       "    .dataframe thead th {\n",
       "        text-align: right;\n",
       "    }\n",
       "</style>\n",
       "<table border=\"1\" class=\"dataframe\">\n",
       "  <thead>\n",
       "    <tr style=\"text-align: right;\">\n",
       "      <th></th>\n",
       "      <th>id</th>\n",
       "      <th>text</th>\n",
       "      <th>lang</th>\n",
       "    </tr>\n",
       "  </thead>\n",
       "  <tbody>\n",
       "    <tr>\n",
       "      <th>7</th>\n",
       "      <td>1321442148731027458</td>\n",
       "      <td>Oh, hey Apple Music update 👋🏾</td>\n",
       "      <td>en</td>\n",
       "    </tr>\n",
       "    <tr>\n",
       "      <th>22</th>\n",
       "      <td>1321442154623938561</td>\n",
       "      <td>RT @billboard_twice: Buy \"I Can't Stop Me\" on ...</td>\n",
       "      <td>en</td>\n",
       "    </tr>\n",
       "    <tr>\n",
       "      <th>24</th>\n",
       "      <td>1321442156020727812</td>\n",
       "      <td>Apple Music people: our new album Fantasizer i...</td>\n",
       "      <td>en</td>\n",
       "    </tr>\n",
       "    <tr>\n",
       "      <th>33</th>\n",
       "      <td>1321442163385880577</td>\n",
       "      <td>Apple iPhone 12 dormant reverse wireless charg...</td>\n",
       "      <td>en</td>\n",
       "    </tr>\n",
       "    <tr>\n",
       "      <th>54</th>\n",
       "      <td>1321442169606078465</td>\n",
       "      <td>RT @ArianaWorldHQ: Apple Music Top 100: Global...</td>\n",
       "      <td>en</td>\n",
       "    </tr>\n",
       "    <tr>\n",
       "      <th>...</th>\n",
       "      <td>...</td>\n",
       "      <td>...</td>\n",
       "      <td>...</td>\n",
       "    </tr>\n",
       "    <tr>\n",
       "      <th>4963</th>\n",
       "      <td>1321444347275923457</td>\n",
       "      <td>@CatharsisDaily But- Ted Lasso is the best sho...</td>\n",
       "      <td>en</td>\n",
       "    </tr>\n",
       "    <tr>\n",
       "      <th>4978</th>\n",
       "      <td>1321444353236103168</td>\n",
       "      <td>RT @CrabPremiums: 🦀 SELLING AFFORDABLE PREMIUM...</td>\n",
       "      <td>en</td>\n",
       "    </tr>\n",
       "    <tr>\n",
       "      <th>4992</th>\n",
       "      <td>1321444359947096070</td>\n",
       "      <td>Apple tests search: https://t.co/Ku4hrjGxMS</td>\n",
       "      <td>en</td>\n",
       "    </tr>\n",
       "    <tr>\n",
       "      <th>4996</th>\n",
       "      <td>1321444362337820673</td>\n",
       "      <td>This would be really great. Granted, it’d prob...</td>\n",
       "      <td>en</td>\n",
       "    </tr>\n",
       "    <tr>\n",
       "      <th>4999</th>\n",
       "      <td>1321444363591888896</td>\n",
       "      <td>Best Apple TV Plus shows: great Apple TV+ show...</td>\n",
       "      <td>en</td>\n",
       "    </tr>\n",
       "  </tbody>\n",
       "</table>\n",
       "<p>661 rows × 3 columns</p>\n",
       "</div>"
      ],
      "text/plain": [
       "                       id                                               text  \\\n",
       "7     1321442148731027458                      Oh, hey Apple Music update 👋🏾   \n",
       "22    1321442154623938561  RT @billboard_twice: Buy \"I Can't Stop Me\" on ...   \n",
       "24    1321442156020727812  Apple Music people: our new album Fantasizer i...   \n",
       "33    1321442163385880577  Apple iPhone 12 dormant reverse wireless charg...   \n",
       "54    1321442169606078465  RT @ArianaWorldHQ: Apple Music Top 100: Global...   \n",
       "...                   ...                                                ...   \n",
       "4963  1321444347275923457  @CatharsisDaily But- Ted Lasso is the best sho...   \n",
       "4978  1321444353236103168  RT @CrabPremiums: 🦀 SELLING AFFORDABLE PREMIUM...   \n",
       "4992  1321444359947096070        Apple tests search: https://t.co/Ku4hrjGxMS   \n",
       "4996  1321444362337820673  This would be really great. Granted, it’d prob...   \n",
       "4999  1321444363591888896  Best Apple TV Plus shows: great Apple TV+ show...   \n",
       "\n",
       "     lang  \n",
       "7      en  \n",
       "22     en  \n",
       "24     en  \n",
       "33     en  \n",
       "54     en  \n",
       "...   ...  \n",
       "4963   en  \n",
       "4978   en  \n",
       "4992   en  \n",
       "4996   en  \n",
       "4999   en  \n",
       "\n",
       "[661 rows x 3 columns]"
      ]
     },
     "execution_count": 46,
     "metadata": {},
     "output_type": "execute_result"
    }
   ],
   "source": [
    "apple_db"
   ]
  },
  {
   "cell_type": "code",
   "execution_count": 47,
   "metadata": {},
   "outputs": [
    {
     "data": {
      "image/png": "[encoded data removed]",
      "text/plain": [
       "<Figure size 432x288 with 1 Axes>"
      ]
     },
     "metadata": {
      "needs_background": "light"
     },
     "output_type": "display_data"
    }
   ],
   "source": [
    "apple_text = apple_db['text']\n",
    "wordlist = pd.DataFrame();\n",
    "\n",
    "polarity = []\n",
    "subj = []\n",
    "\n",
    "for t in apple_text:\n",
    "    tx = TextBlob(t)\n",
    "    polarity.append(tx.sentiment.polarity)\n",
    "    subj.append(tx.sentiment.subjectivity)\n",
    "\n",
    "apple_pol = pd.DataFrame({'polarity':polarity,'subjectivity':subj})\n",
    "apple_pol.polarity.plot(title='Apple Polarity')\n",
    "plt.show()"
   ]
  },
  {
   "cell_type": "code",
   "execution_count": 48,
   "metadata": {},
   "outputs": [
    {
     "data": {
      "image/png": "[encoded data removed]",
      "text/plain": [
       "<Figure size 432x288 with 1 Axes>"
      ]
     },
     "metadata": {
      "needs_background": "light"
     },
     "output_type": "display_data"
    }
   ],
   "source": [
    "apple_pol.subjectivity.plot(title='Apple Subjectivity')\n",
    "plt.show()"
   ]
  },
  {
   "cell_type": "code",
   "execution_count": 49,
   "metadata": {},
   "outputs": [
    {
     "data": {
      "text/plain": [
       "0.08266432720148681"
      ]
     },
     "execution_count": 49,
     "metadata": {},
     "output_type": "execute_result"
    }
   ],
   "source": [
    "statistics.mean(apple_pol.polarity)"
   ]
  },
  {
   "cell_type": "code",
   "execution_count": 50,
   "metadata": {},
   "outputs": [
    {
     "data": {
      "text/plain": [
       "0.3074390323633894"
      ]
     },
     "execution_count": 50,
     "metadata": {},
     "output_type": "execute_result"
    }
   ],
   "source": [
    "statistics.mean(apple_pol.subjectivity)"
   ]
  },
  {
   "cell_type": "code",
   "execution_count": 51,
   "metadata": {},
   "outputs": [
    {
     "data": {
      "text/html": [
       "<div>\n",
       "<style scoped>\n",
       "    .dataframe tbody tr th:only-of-type {\n",
       "        vertical-align: middle;\n",
       "    }\n",
       "\n",
       "    .dataframe tbody tr th {\n",
       "        vertical-align: top;\n",
       "    }\n",
       "\n",
       "    .dataframe thead th {\n",
       "        text-align: right;\n",
       "    }\n",
       "</style>\n",
       "<table border=\"1\" class=\"dataframe\">\n",
       "  <thead>\n",
       "    <tr style=\"text-align: right;\">\n",
       "      <th></th>\n",
       "      <th>id</th>\n",
       "      <th>text</th>\n",
       "      <th>lang</th>\n",
       "    </tr>\n",
       "  </thead>\n",
       "  <tbody>\n",
       "    <tr>\n",
       "      <th>36</th>\n",
       "      <td>1321442164509937671</td>\n",
       "      <td>RT @Namaze5: Am selling Samsung S8 used for 1y...</td>\n",
       "      <td>en</td>\n",
       "    </tr>\n",
       "    <tr>\n",
       "      <th>88</th>\n",
       "      <td>1321442180339294210</td>\n",
       "      <td>@banglanews24com Samsung Galaxy J2 Google Acco...</td>\n",
       "      <td>en</td>\n",
       "    </tr>\n",
       "    <tr>\n",
       "      <th>114</th>\n",
       "      <td>1321442194209853442</td>\n",
       "      <td>The value of @Samsung phones can be told in mo...</td>\n",
       "      <td>en</td>\n",
       "    </tr>\n",
       "    <tr>\n",
       "      <th>196</th>\n",
       "      <td>1321442235854958595</td>\n",
       "      <td>RT @Jhopesfashion: Hoseok's Denim jacket Map o...</td>\n",
       "      <td>en</td>\n",
       "    </tr>\n",
       "    <tr>\n",
       "      <th>205</th>\n",
       "      <td>1321442240762310657</td>\n",
       "      <td>$LIN: Linde plc signs second long-term agreeme...</td>\n",
       "      <td>en</td>\n",
       "    </tr>\n",
       "    <tr>\n",
       "      <th>...</th>\n",
       "      <td>...</td>\n",
       "      <td>...</td>\n",
       "      <td>...</td>\n",
       "    </tr>\n",
       "    <tr>\n",
       "      <th>4688</th>\n",
       "      <td>1321444222407331840</td>\n",
       "      <td>Samsung giveaway</td>\n",
       "      <td>en</td>\n",
       "    </tr>\n",
       "    <tr>\n",
       "      <th>4795</th>\n",
       "      <td>1321444267789746177</td>\n",
       "      <td>@Joon_1306_07er @BTS_twt 3. Samsung\\n\\nI'm vot...</td>\n",
       "      <td>en</td>\n",
       "    </tr>\n",
       "    <tr>\n",
       "      <th>4846</th>\n",
       "      <td>1321444290426474497</td>\n",
       "      <td>RT @PS5only: \"Best TV for PS5 Gaming 2020\"\\n\\n...</td>\n",
       "      <td>en</td>\n",
       "    </tr>\n",
       "    <tr>\n",
       "      <th>4935</th>\n",
       "      <td>1321444333489397760</td>\n",
       "      <td>Samsung really thought that we forgot that the...</td>\n",
       "      <td>en</td>\n",
       "    </tr>\n",
       "    <tr>\n",
       "      <th>4936</th>\n",
       "      <td>1321444333610885121</td>\n",
       "      <td>Samsung Galaxy Super stoked to capture my mome...</td>\n",
       "      <td>en</td>\n",
       "    </tr>\n",
       "  </tbody>\n",
       "</table>\n",
       "<p>105 rows × 3 columns</p>\n",
       "</div>"
      ],
      "text/plain": [
       "                       id                                               text  \\\n",
       "36    1321442164509937671  RT @Namaze5: Am selling Samsung S8 used for 1y...   \n",
       "88    1321442180339294210  @banglanews24com Samsung Galaxy J2 Google Acco...   \n",
       "114   1321442194209853442  The value of @Samsung phones can be told in mo...   \n",
       "196   1321442235854958595  RT @Jhopesfashion: Hoseok's Denim jacket Map o...   \n",
       "205   1321442240762310657  $LIN: Linde plc signs second long-term agreeme...   \n",
       "...                   ...                                                ...   \n",
       "4688  1321444222407331840                                   Samsung giveaway   \n",
       "4795  1321444267789746177  @Joon_1306_07er @BTS_twt 3. Samsung\\n\\nI'm vot...   \n",
       "4846  1321444290426474497  RT @PS5only: \"Best TV for PS5 Gaming 2020\"\\n\\n...   \n",
       "4935  1321444333489397760  Samsung really thought that we forgot that the...   \n",
       "4936  1321444333610885121  Samsung Galaxy Super stoked to capture my mome...   \n",
       "\n",
       "     lang  \n",
       "36     en  \n",
       "88     en  \n",
       "114    en  \n",
       "196    en  \n",
       "205    en  \n",
       "...   ...  \n",
       "4688   en  \n",
       "4795   en  \n",
       "4846   en  \n",
       "4935   en  \n",
       "4936   en  \n",
       "\n",
       "[105 rows x 3 columns]"
      ]
     },
     "execution_count": 51,
     "metadata": {},
     "output_type": "execute_result"
    }
   ],
   "source": [
    "samsung_db"
   ]
  },
  {
   "cell_type": "code",
   "execution_count": 52,
   "metadata": {},
   "outputs": [
    {
     "data": {
      "image/png": "[encoded data removed]",
      "text/plain": [
       "<Figure size 432x288 with 1 Axes>"
      ]
     },
     "metadata": {
      "needs_background": "light"
     },
     "output_type": "display_data"
    }
   ],
   "source": [
    "samsung_text = samsung_db['text']\n",
    "wordlist = pd.DataFrame();\n",
    "\n",
    "polarity = []\n",
    "subj = []\n",
    "\n",
    "for t in samsung_text:\n",
    "    tx = TextBlob(t)\n",
    "    polarity.append(tx.sentiment.polarity)\n",
    "    subj.append(tx.sentiment.subjectivity)\n",
    "\n",
    "samsung_pol = pd.DataFrame({'polarity':polarity,'subjectivity':subj})\n",
    "samsung_pol.polarity.plot(title='Samsung Polarity')\n",
    "plt.show()"
   ]
  },
  {
   "cell_type": "code",
   "execution_count": 53,
   "metadata": {},
   "outputs": [
    {
     "data": {
      "image/png": "[encoded data removed]",
      "text/plain": [
       "<Figure size 432x288 with 1 Axes>"
      ]
     },
     "metadata": {
      "needs_background": "light"
     },
     "output_type": "display_data"
    }
   ],
   "source": [
    "samsung_pol.subjectivity.plot(title='Samsung Subjectivity')\n",
    "plt.show()"
   ]
  },
  {
   "cell_type": "code",
   "execution_count": 54,
   "metadata": {},
   "outputs": [
    {
     "data": {
      "text/plain": [
       "0.26000870954442384"
      ]
     },
     "execution_count": 54,
     "metadata": {},
     "output_type": "execute_result"
    }
   ],
   "source": [
    "statistics.mean(samsung_pol.polarity)"
   ]
  },
  {
   "cell_type": "code",
   "execution_count": 55,
   "metadata": {},
   "outputs": [
    {
     "data": {
      "text/plain": [
       "0.27864052085480656"
      ]
     },
     "execution_count": 55,
     "metadata": {},
     "output_type": "execute_result"
    }
   ],
   "source": [
    "statistics.mean(samsung_pol.subjectivity)"
   ]
  },
  {
   "cell_type": "code",
   "execution_count": 56,
   "metadata": {},
   "outputs": [
    {
     "data": {
      "text/html": [
       "<div>\n",
       "<style scoped>\n",
       "    .dataframe tbody tr th:only-of-type {\n",
       "        vertical-align: middle;\n",
       "    }\n",
       "\n",
       "    .dataframe tbody tr th {\n",
       "        vertical-align: top;\n",
       "    }\n",
       "\n",
       "    .dataframe thead th {\n",
       "        text-align: right;\n",
       "    }\n",
       "</style>\n",
       "<table border=\"1\" class=\"dataframe\">\n",
       "  <thead>\n",
       "    <tr style=\"text-align: right;\">\n",
       "      <th></th>\n",
       "      <th>id</th>\n",
       "      <th>text</th>\n",
       "      <th>lang</th>\n",
       "    </tr>\n",
       "  </thead>\n",
       "  <tbody>\n",
       "    <tr>\n",
       "      <th>64</th>\n",
       "      <td>1321442172080517126</td>\n",
       "      <td>@ShopeeID A pliss minn\\n\\nA   Huawei P40 pro+\\...</td>\n",
       "      <td>en</td>\n",
       "    </tr>\n",
       "    <tr>\n",
       "      <th>116</th>\n",
       "      <td>1321442195505774593</td>\n",
       "      <td>@ShopeeID A pliss minn\\n\\nA   Huawei P40 pro+\\...</td>\n",
       "      <td>en</td>\n",
       "    </tr>\n",
       "    <tr>\n",
       "      <th>166</th>\n",
       "      <td>1321442219744587776</td>\n",
       "      <td>@ShopeeID A pliss minn\\n\\nA   Huawei P40 pro+\\...</td>\n",
       "      <td>en</td>\n",
       "    </tr>\n",
       "    <tr>\n",
       "      <th>182</th>\n",
       "      <td>1321442228217147393</td>\n",
       "      <td>BT and Ericsson sign 5G deal as Huawei ban tak...</td>\n",
       "      <td>en</td>\n",
       "    </tr>\n",
       "    <tr>\n",
       "      <th>191</th>\n",
       "      <td>1321442232839376896</td>\n",
       "      <td>RT @HuaweiCarrier: Follow Huawei Carrier Busin...</td>\n",
       "      <td>en</td>\n",
       "    </tr>\n",
       "    <tr>\n",
       "      <th>...</th>\n",
       "      <td>...</td>\n",
       "      <td>...</td>\n",
       "      <td>...</td>\n",
       "    </tr>\n",
       "    <tr>\n",
       "      <th>4090</th>\n",
       "      <td>1321443947928059906</td>\n",
       "      <td>At the beginning of the new decade, the changi...</td>\n",
       "      <td>en</td>\n",
       "    </tr>\n",
       "    <tr>\n",
       "      <th>4144</th>\n",
       "      <td>1321443972321980416</td>\n",
       "      <td>@Stormtrooper184 @TheGalox_ That's what I mean...</td>\n",
       "      <td>en</td>\n",
       "    </tr>\n",
       "    <tr>\n",
       "      <th>4153</th>\n",
       "      <td>1321443976029868032</td>\n",
       "      <td>RT @ThedailyNG: How Huawei is accelerating dig...</td>\n",
       "      <td>en</td>\n",
       "    </tr>\n",
       "    <tr>\n",
       "      <th>4648</th>\n",
       "      <td>1321444201570226178</td>\n",
       "      <td>Huawei AM12 Plus in-Ear Headphone (Grey)@ Rs. ...</td>\n",
       "      <td>en</td>\n",
       "    </tr>\n",
       "    <tr>\n",
       "      <th>4676</th>\n",
       "      <td>1321444212299063297</td>\n",
       "      <td>Two more days till #Huawei’s #BWS Power Digita...</td>\n",
       "      <td>en</td>\n",
       "    </tr>\n",
       "  </tbody>\n",
       "</table>\n",
       "<p>63 rows × 3 columns</p>\n",
       "</div>"
      ],
      "text/plain": [
       "                       id                                               text  \\\n",
       "64    1321442172080517126  @ShopeeID A pliss minn\\n\\nA   Huawei P40 pro+\\...   \n",
       "116   1321442195505774593  @ShopeeID A pliss minn\\n\\nA   Huawei P40 pro+\\...   \n",
       "166   1321442219744587776  @ShopeeID A pliss minn\\n\\nA   Huawei P40 pro+\\...   \n",
       "182   1321442228217147393  BT and Ericsson sign 5G deal as Huawei ban tak...   \n",
       "191   1321442232839376896  RT @HuaweiCarrier: Follow Huawei Carrier Busin...   \n",
       "...                   ...                                                ...   \n",
       "4090  1321443947928059906  At the beginning of the new decade, the changi...   \n",
       "4144  1321443972321980416  @Stormtrooper184 @TheGalox_ That's what I mean...   \n",
       "4153  1321443976029868032  RT @ThedailyNG: How Huawei is accelerating dig...   \n",
       "4648  1321444201570226178  Huawei AM12 Plus in-Ear Headphone (Grey)@ Rs. ...   \n",
       "4676  1321444212299063297  Two more days till #Huawei’s #BWS Power Digita...   \n",
       "\n",
       "     lang  \n",
       "64     en  \n",
       "116    en  \n",
       "166    en  \n",
       "182    en  \n",
       "191    en  \n",
       "...   ...  \n",
       "4090   en  \n",
       "4144   en  \n",
       "4153   en  \n",
       "4648   en  \n",
       "4676   en  \n",
       "\n",
       "[63 rows x 3 columns]"
      ]
     },
     "execution_count": 56,
     "metadata": {},
     "output_type": "execute_result"
    }
   ],
   "source": [
    "huawei_db"
   ]
  },
  {
   "cell_type": "code",
   "execution_count": 57,
   "metadata": {},
   "outputs": [
    {
     "data": {
      "image/png": "[encoded data removed]",
      "text/plain": [
       "<Figure size 432x288 with 1 Axes>"
      ]
     },
     "metadata": {
      "needs_background": "light"
     },
     "output_type": "display_data"
    }
   ],
   "source": [
    "huawei_text = huawei_db['text']\n",
    "wordlist = pd.DataFrame();\n",
    "\n",
    "polarity = []\n",
    "subj = []\n",
    "\n",
    "for t in huawei_text:\n",
    "    tx = TextBlob(t)\n",
    "    polarity.append(tx.sentiment.polarity)\n",
    "    subj.append(tx.sentiment.subjectivity)\n",
    "\n",
    "huawei_pol = pd.DataFrame({'polarity':polarity,'subjectivity':subj})\n",
    "huawei_pol.polarity.plot(title='Huawei Polarity')\n",
    "plt.show()"
   ]
  },
  {
   "cell_type": "code",
   "execution_count": 58,
   "metadata": {},
   "outputs": [
    {
     "data": {
      "image/png": "[encoded data removed]",
      "text/plain": [
       "<Figure size 432x288 with 1 Axes>"
      ]
     },
     "metadata": {
      "needs_background": "light"
     },
     "output_type": "display_data"
    }
   ],
   "source": [
    "huawei_pol.subjectivity.plot(title='Huawei Subjectivity')\n",
    "plt.show()"
   ]
  },
  {
   "cell_type": "code",
   "execution_count": 59,
   "metadata": {},
   "outputs": [
    {
     "data": {
      "text/plain": [
       "0.11018056843949701"
      ]
     },
     "execution_count": 59,
     "metadata": {},
     "output_type": "execute_result"
    }
   ],
   "source": [
    "statistics.mean(huawei_pol.polarity)"
   ]
  },
  {
   "cell_type": "code",
   "execution_count": 60,
   "metadata": {},
   "outputs": [
    {
     "data": {
      "text/plain": [
       "0.18523672095100666"
      ]
     },
     "execution_count": 60,
     "metadata": {},
     "output_type": "execute_result"
    }
   ],
   "source": [
    "statistics.mean(huawei_pol.subjectivity)"
   ]
  },
  {
   "cell_type": "code",
   "execution_count": 61,
   "metadata": {},
   "outputs": [
    {
     "data": {
      "text/html": [
       "<div>\n",
       "<style scoped>\n",
       "    .dataframe tbody tr th:only-of-type {\n",
       "        vertical-align: middle;\n",
       "    }\n",
       "\n",
       "    .dataframe tbody tr th {\n",
       "        vertical-align: top;\n",
       "    }\n",
       "\n",
       "    .dataframe thead th {\n",
       "        text-align: right;\n",
       "    }\n",
       "</style>\n",
       "<table border=\"1\" class=\"dataframe\">\n",
       "  <thead>\n",
       "    <tr style=\"text-align: right;\">\n",
       "      <th></th>\n",
       "      <th>id</th>\n",
       "      <th>text</th>\n",
       "      <th>lang</th>\n",
       "    </tr>\n",
       "  </thead>\n",
       "  <tbody>\n",
       "    <tr>\n",
       "      <th>9</th>\n",
       "      <td>1321442149825536001</td>\n",
       "      <td>RT @amazonIN: Take the perfect screenshot and ...</td>\n",
       "      <td>en</td>\n",
       "    </tr>\n",
       "    <tr>\n",
       "      <th>87</th>\n",
       "      <td>1321442179433123842</td>\n",
       "      <td>@amazonIN Got my screenshot of OPPO A15 PERFEC...</td>\n",
       "      <td>en</td>\n",
       "    </tr>\n",
       "    <tr>\n",
       "      <th>112</th>\n",
       "      <td>1321442192595030018</td>\n",
       "      <td>@amazonIN Here's my perfect screenshot of Oppo...</td>\n",
       "      <td>en</td>\n",
       "    </tr>\n",
       "    <tr>\n",
       "      <th>155</th>\n",
       "      <td>1321442214279524355</td>\n",
       "      <td>Hands-on: Oppo A15 Review https://t.co/PRmC4HC5bc</td>\n",
       "      <td>en</td>\n",
       "    </tr>\n",
       "    <tr>\n",
       "      <th>185</th>\n",
       "      <td>1321442230280712195</td>\n",
       "      <td>RT @amazonIN: Take the perfect screenshot and ...</td>\n",
       "      <td>en</td>\n",
       "    </tr>\n",
       "    <tr>\n",
       "      <th>...</th>\n",
       "      <td>...</td>\n",
       "      <td>...</td>\n",
       "      <td>...</td>\n",
       "    </tr>\n",
       "    <tr>\n",
       "      <th>4491</th>\n",
       "      <td>1321444133358178309</td>\n",
       "      <td>The perfect screenshot of Oppo A15. #AmazonSpe...</td>\n",
       "      <td>en</td>\n",
       "    </tr>\n",
       "    <tr>\n",
       "      <th>4619</th>\n",
       "      <td>1321444187276005376</td>\n",
       "      <td>RT @amazonIN: Take the perfect screenshot and ...</td>\n",
       "      <td>en</td>\n",
       "    </tr>\n",
       "    <tr>\n",
       "      <th>4818</th>\n",
       "      <td>1321444278757810177</td>\n",
       "      <td>@amazonIN Here's my perfect screen shot of OPP...</td>\n",
       "      <td>en</td>\n",
       "    </tr>\n",
       "    <tr>\n",
       "      <th>4886</th>\n",
       "      <td>1321444308998705152</td>\n",
       "      <td>RT @amazonIN: Take the perfect screenshot and ...</td>\n",
       "      <td>en</td>\n",
       "    </tr>\n",
       "    <tr>\n",
       "      <th>4926</th>\n",
       "      <td>1321444328762445824</td>\n",
       "      <td>RT @amazonIN: Take the perfect screenshot and ...</td>\n",
       "      <td>en</td>\n",
       "    </tr>\n",
       "  </tbody>\n",
       "</table>\n",
       "<p>64 rows × 3 columns</p>\n",
       "</div>"
      ],
      "text/plain": [
       "                       id                                               text  \\\n",
       "9     1321442149825536001  RT @amazonIN: Take the perfect screenshot and ...   \n",
       "87    1321442179433123842  @amazonIN Got my screenshot of OPPO A15 PERFEC...   \n",
       "112   1321442192595030018  @amazonIN Here's my perfect screenshot of Oppo...   \n",
       "155   1321442214279524355  Hands-on: Oppo A15 Review https://t.co/PRmC4HC5bc   \n",
       "185   1321442230280712195  RT @amazonIN: Take the perfect screenshot and ...   \n",
       "...                   ...                                                ...   \n",
       "4491  1321444133358178309  The perfect screenshot of Oppo A15. #AmazonSpe...   \n",
       "4619  1321444187276005376  RT @amazonIN: Take the perfect screenshot and ...   \n",
       "4818  1321444278757810177  @amazonIN Here's my perfect screen shot of OPP...   \n",
       "4886  1321444308998705152  RT @amazonIN: Take the perfect screenshot and ...   \n",
       "4926  1321444328762445824  RT @amazonIN: Take the perfect screenshot and ...   \n",
       "\n",
       "     lang  \n",
       "9      en  \n",
       "87     en  \n",
       "112    en  \n",
       "155    en  \n",
       "185    en  \n",
       "...   ...  \n",
       "4491   en  \n",
       "4619   en  \n",
       "4818   en  \n",
       "4886   en  \n",
       "4926   en  \n",
       "\n",
       "[64 rows x 3 columns]"
      ]
     },
     "execution_count": 61,
     "metadata": {},
     "output_type": "execute_result"
    }
   ],
   "source": [
    "oppo_db"
   ]
  },
  {
   "cell_type": "code",
   "execution_count": 62,
   "metadata": {},
   "outputs": [
    {
     "data": {
      "image/png": "[encoded data removed]",
      "text/plain": [
       "<Figure size 432x288 with 1 Axes>"
      ]
     },
     "metadata": {
      "needs_background": "light"
     },
     "output_type": "display_data"
    }
   ],
   "source": [
    "oppo_text = oppo_db['text']\n",
    "wordlist = pd.DataFrame();\n",
    "\n",
    "polarity = []\n",
    "subj = []\n",
    "\n",
    "for t in oppo_text:\n",
    "    tx = TextBlob(t)\n",
    "    polarity.append(tx.sentiment.polarity)\n",
    "    subj.append(tx.sentiment.subjectivity)\n",
    "\n",
    "oppo_pol = pd.DataFrame({'polarity':polarity,'subjectivity':subj})\n",
    "oppo_pol.polarity.plot(title='Oppo Polarity')\n",
    "plt.show()"
   ]
  },
  {
   "cell_type": "code",
   "execution_count": 63,
   "metadata": {},
   "outputs": [
    {
     "data": {
      "image/png": "[encoded data removed]",
      "text/plain": [
       "<Figure size 432x288 with 1 Axes>"
      ]
     },
     "metadata": {
      "needs_background": "light"
     },
     "output_type": "display_data"
    }
   ],
   "source": [
    "oppo_pol.subjectivity.plot(title='Oppo Subjectivity')\n",
    "plt.show()"
   ]
  },
  {
   "cell_type": "code",
   "execution_count": 64,
   "metadata": {},
   "outputs": [
    {
     "data": {
      "text/plain": [
       "0.9043296807359308"
      ]
     },
     "execution_count": 64,
     "metadata": {},
     "output_type": "execute_result"
    }
   ],
   "source": [
    "statistics.mean(oppo_pol.polarity)"
   ]
  },
  {
   "cell_type": "code",
   "execution_count": 65,
   "metadata": {},
   "outputs": [
    {
     "data": {
      "text/plain": [
       "0.7340354437229437"
      ]
     },
     "execution_count": 65,
     "metadata": {},
     "output_type": "execute_result"
    }
   ],
   "source": [
    "statistics.mean(oppo_pol.subjectivity)"
   ]
  },
  {
   "cell_type": "code",
   "execution_count": 66,
   "metadata": {},
   "outputs": [
    {
     "data": {
      "text/html": [
       "<div>\n",
       "<style scoped>\n",
       "    .dataframe tbody tr th:only-of-type {\n",
       "        vertical-align: middle;\n",
       "    }\n",
       "\n",
       "    .dataframe tbody tr th {\n",
       "        vertical-align: top;\n",
       "    }\n",
       "\n",
       "    .dataframe thead th {\n",
       "        text-align: right;\n",
       "    }\n",
       "</style>\n",
       "<table border=\"1\" class=\"dataframe\">\n",
       "  <thead>\n",
       "    <tr style=\"text-align: right;\">\n",
       "      <th></th>\n",
       "      <th>id</th>\n",
       "      <th>text</th>\n",
       "      <th>lang</th>\n",
       "    </tr>\n",
       "  </thead>\n",
       "  <tbody>\n",
       "    <tr>\n",
       "      <th>142</th>\n",
       "      <td>1321442209510629377</td>\n",
       "      <td>Vivo V20 SE surfaces on Croma and Reliance Dig...</td>\n",
       "      <td>en</td>\n",
       "    </tr>\n",
       "    <tr>\n",
       "      <th>1148</th>\n",
       "      <td>1321442646661996544</td>\n",
       "      <td>Vivo V20 SE likely to be priced at Rs 20,990 i...</td>\n",
       "      <td>en</td>\n",
       "    </tr>\n",
       "    <tr>\n",
       "      <th>1968</th>\n",
       "      <td>1321443015341281283</td>\n",
       "      <td>Vivo V20 SE likely to be priced at Rs 20,990 i...</td>\n",
       "      <td>en</td>\n",
       "    </tr>\n",
       "    <tr>\n",
       "      <th>3367</th>\n",
       "      <td>1321443633699020800</td>\n",
       "      <td>RT @Vivo_Phil: Watch how LANY stays in focus w...</td>\n",
       "      <td>en</td>\n",
       "    </tr>\n",
       "    <tr>\n",
       "      <th>3767</th>\n",
       "      <td>1321443809146724355</td>\n",
       "      <td>RT @Vivo_Phil: Watch how LANY stays in focus w...</td>\n",
       "      <td>en</td>\n",
       "    </tr>\n",
       "  </tbody>\n",
       "</table>\n",
       "</div>"
      ],
      "text/plain": [
       "                       id                                               text  \\\n",
       "142   1321442209510629377  Vivo V20 SE surfaces on Croma and Reliance Dig...   \n",
       "1148  1321442646661996544  Vivo V20 SE likely to be priced at Rs 20,990 i...   \n",
       "1968  1321443015341281283  Vivo V20 SE likely to be priced at Rs 20,990 i...   \n",
       "3367  1321443633699020800  RT @Vivo_Phil: Watch how LANY stays in focus w...   \n",
       "3767  1321443809146724355  RT @Vivo_Phil: Watch how LANY stays in focus w...   \n",
       "\n",
       "     lang  \n",
       "142    en  \n",
       "1148   en  \n",
       "1968   en  \n",
       "3367   en  \n",
       "3767   en  "
      ]
     },
     "execution_count": 66,
     "metadata": {},
     "output_type": "execute_result"
    }
   ],
   "source": [
    "vivo_db"
   ]
  },
  {
   "cell_type": "code",
   "execution_count": 67,
   "metadata": {},
   "outputs": [
    {
     "data": {
      "image/png": "[encoded data removed]",
      "text/plain": [
       "<Figure size 432x288 with 1 Axes>"
      ]
     },
     "metadata": {
      "needs_background": "light"
     },
     "output_type": "display_data"
    }
   ],
   "source": [
    "from  textblob import TextBlob\n",
    "vivo_text = vivo_db['text']\n",
    "wordlist = pd.DataFrame();\n",
    "\n",
    "polarity = []\n",
    "subj = []\n",
    "\n",
    "for t in vivo_text:\n",
    "    tx = TextBlob(t)\n",
    "    polarity.append(tx.sentiment.polarity)\n",
    "    subj.append(tx.sentiment.subjectivity)\n",
    "\n",
    "vivo_pol = pd.DataFrame({'polarity':polarity,'subjectivity':subj})\n",
    "vivo_pol.polarity.plot(title='Vivo Polarity')\n",
    "plt.show()"
   ]
  },
  {
   "cell_type": "code",
   "execution_count": 68,
   "metadata": {},
   "outputs": [
    {
     "data": {
      "image/png": "[encoded data removed]",
      "text/plain": [
       "<Figure size 432x288 with 1 Axes>"
      ]
     },
     "metadata": {
      "needs_background": "light"
     },
     "output_type": "display_data"
    }
   ],
   "source": [
    "vivo_pol.subjectivity.plot(title='Vivo Subjectivity')\n",
    "plt.show()"
   ]
  },
  {
   "cell_type": "code",
   "execution_count": 69,
   "metadata": {},
   "outputs": [
    {
     "data": {
      "text/plain": [
       "0.0"
      ]
     },
     "execution_count": 69,
     "metadata": {},
     "output_type": "execute_result"
    }
   ],
   "source": [
    "statistics.mean(vivo_pol.polarity)"
   ]
  },
  {
   "cell_type": "code",
   "execution_count": 70,
   "metadata": {},
   "outputs": [
    {
     "data": {
      "text/plain": [
       "0.4"
      ]
     },
     "execution_count": 70,
     "metadata": {},
     "output_type": "execute_result"
    }
   ],
   "source": [
    "statistics.mean(vivo_pol.subjectivity)"
   ]
  },
  {
   "cell_type": "code",
   "execution_count": null,
   "metadata": {},
   "outputs": [],
   "source": []
  }
 ],
 "metadata": {
  "kernelspec": {
   "display_name": "Python 3",
   "language": "python",
   "name": "python3"
  },
  "language_info": {
   "codemirror_mode": {
    "name": "ipython",
    "version": 3
   },
   "file_extension": ".py",
   "mimetype": "text/x-python",
   "name": "python",
   "nbconvert_exporter": "python",
   "pygments_lexer": "ipython3",
   "version": "3.7.6"
  }
 },
 "nbformat": 4,
 "nbformat_minor": 4
}
